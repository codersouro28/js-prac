{
 "cells": [
  {
   "cell_type": "code",
   "execution_count": 1,
   "id": "2838e620",
   "metadata": {
    "_cell_guid": "b1076dfc-b9ad-4769-8c92-a6c4dae69d19",
    "_uuid": "8f2839f25d086af736a60e9eeb907d3b93b6e0e5",
    "execution": {
     "iopub.execute_input": "2024-08-21T05:42:05.626002Z",
     "iopub.status.busy": "2024-08-21T05:42:05.625547Z",
     "iopub.status.idle": "2024-08-21T05:42:06.609228Z",
     "shell.execute_reply": "2024-08-21T05:42:06.607972Z"
    },
    "papermill": {
     "duration": 0.991414,
     "end_time": "2024-08-21T05:42:06.612254",
     "exception": false,
     "start_time": "2024-08-21T05:42:05.620840",
     "status": "completed"
    },
    "tags": []
   },
   "outputs": [],
   "source": [
    "# This Python 3 environment comes with many helpful analytics libraries installed\n",
    "# It is defined by the kaggle/python Docker image: https://github.com/kaggle/docker-python\n",
    "# For example, here's several helpful packages to load\n",
    "\n",
    "import numpy as np # linear algebra\n",
    "import pandas as pd # data processing, CSV file I/O (e.g. pd.read_csv)\n",
    "\n",
    "# Input data files are available in the read-only \"../input/\" directory\n",
    "# For example, running this (by clicking run or pressing Shift+Enter) will list all files under the input directory\n",
    "\n",
    "import os\n",
    "for dirname, _, filenames in os.walk('/kaggle/input'):\n",
    "    for filename in filenames:\n",
    "        print(os.path.join(dirname, filename))\n",
    "\n",
    "# You can write up to 20GB to the current directory (/kaggle/working/) that gets preserved as output when you create a version using \"Save & Run All\" \n",
    "# You can also write temporary files to /kaggle/temp/, but they won't be saved outside of the current session"
   ]
  },
  {
   "cell_type": "code",
   "execution_count": 2,
   "id": "04e35cca",
   "metadata": {
    "execution": {
     "iopub.execute_input": "2024-08-21T05:42:06.619255Z",
     "iopub.status.busy": "2024-08-21T05:42:06.618670Z",
     "iopub.status.idle": "2024-08-21T05:42:13.183584Z",
     "shell.execute_reply": "2024-08-21T05:42:13.182295Z"
    },
    "papermill": {
     "duration": 6.571838,
     "end_time": "2024-08-21T05:42:13.186757",
     "exception": false,
     "start_time": "2024-08-21T05:42:06.614919",
     "status": "completed"
    },
    "tags": []
   },
   "outputs": [
    {
     "name": "stdout",
     "output_type": "stream",
     "text": [
      "Cloning into 'xrayReport'...\r\n",
      "remote: Enumerating objects: 35, done.\u001b[K\r\n",
      "remote: Counting objects: 100% (35/35), done.\u001b[K\r\n",
      "remote: Compressing objects: 100% (33/33), done.\u001b[K\r\n",
      "remote: Total 35 (delta 2), reused 35 (delta 2), pack-reused 0 (from 0)\u001b[K\r\n",
      "Unpacking objects: 100% (35/35), 29.04 MiB | 7.18 MiB/s, done.\r\n"
     ]
    }
   ],
   "source": [
    "!git clone https://github.com/codersouro28/xrayReport.git"
   ]
  },
  {
   "cell_type": "code",
   "execution_count": null,
   "id": "88a1dec8",
   "metadata": {
    "papermill": {
     "duration": 0.002962,
     "end_time": "2024-08-21T05:42:13.193193",
     "exception": false,
     "start_time": "2024-08-21T05:42:13.190231",
     "status": "completed"
    },
    "tags": []
   },
   "outputs": [],
   "source": []
  }
 ],
 "metadata": {
  "kaggle": {
   "accelerator": "none",
   "dataSources": [],
   "dockerImageVersionId": 30746,
   "isGpuEnabled": false,
   "isInternetEnabled": true,
   "language": "python",
   "sourceType": "notebook"
  },
  "kernelspec": {
   "display_name": "Python 3",
   "language": "python",
   "name": "python3"
  },
  "language_info": {
   "codemirror_mode": {
    "name": "ipython",
    "version": 3
   },
   "file_extension": ".py",
   "mimetype": "text/x-python",
   "name": "python",
   "nbconvert_exporter": "python",
   "pygments_lexer": "ipython3",
   "version": "3.10.13"
  },
  "papermill": {
   "default_parameters": {},
   "duration": 11.805773,
   "end_time": "2024-08-21T05:42:13.719092",
   "environment_variables": {},
   "exception": null,
   "input_path": "__notebook__.ipynb",
   "output_path": "__notebook__.ipynb",
   "parameters": {},
   "start_time": "2024-08-21T05:42:01.913319",
   "version": "2.5.0"
  }
 },
 "nbformat": 4,
 "nbformat_minor": 5
}
